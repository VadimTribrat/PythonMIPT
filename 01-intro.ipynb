{
 "cells": [
  {
   "cell_type": "markdown",
   "metadata": {},
   "source": [
    "## Домашнее задание №1 (курс \"Практикум по программированию на языке Python\")"
   ]
  },
  {
   "cell_type": "markdown",
   "metadata": {},
   "source": [
    "### Тема: Введение в язык Python.\n",
    "\n",
    "**Автор**: Мурат Апишев\n",
    "\n",
    "**Выдана**:   18 февраля 2022\n",
    "\n",
    "**Дедлайн**:  21:00 3 марта 2022\n",
    "\n",
    "**Среда выполнения**: Jupyter Notebook (Python 3.7+)\n",
    "\n",
    "#### Правила:\n",
    "\n",
    "Результат выполнения задания - Jupyter Notebook с кодом. __Максимальное число баллов за задание - 20__.\n",
    "\n",
    "Все ячейки должны быть \"выполненными\", при этом результат должен воспроизводиться при проверке (на Python 3.7). Если какой-то код не был запущен или отрабатывает с ошибками, то пункт не засчитывается. Задание, сданное после дедлайна, _не принимается_. Можно отправить недоделанное задание, выполненные пункты будут оценены.\n",
    "\n",
    "Готовое задание отправляется на почту mel-lain@yandex.ru.\n",
    "\n",
    "Задание выполняется самостоятельно. Если какие-то студенты будут уличены в списывании, все они автоматически получат за эту работу 0 баллов. Если вы нашли в Интернете какой-то специфичный код, который собираетесь заимствовать, обязательно укажите это в задании - наверняка вы не единственный, кто найдёт и использует эту информацию.\n",
    "\n",
    "__Удалять фрагменты формулировок заданий запрещается.__"
   ]
  },
  {
   "cell_type": "markdown",
   "metadata": {},
   "source": [
    "#### Постановка задачи:\n",
    "\n",
    "- В данной работе нужно решить набор задач, проверяющих владение базовыми инструментами языка.\n",
    "- Каждая задача представляет собой написание одной или более функций, а также набора тестов, проверяющих работу этой функции в общих и крайних случаях.\n",
    "- Отсутствие тестов автоматически уменьшает количество баллов за задание как минимум в два раза, некачественные тесты также будут штрафоваться.\n",
    "- Если в задании указано использовать несколько разных вариантов решения, подразумевается использование различных инструментов (циклы, списковые включения, генераторы, встроенные функции, функции модулей стандартной библотеки и т.п.), замена, например, цикла for на цикл while не является иным способом решения.\n",
    "- Даже если это не указано явно в требованиях, код должен быть по возможности неизбыточным, работать с разумной сложностью и объёмом потребялемой памяти, проверяющие могут снизить балл за задание, выполненное без учёта этого требования.\n",
    "- Результирующий код должен быть читаемым, с единой системой отступов и адеквантными названиями переменных, проверяющие могут снизить балл за задание, выполненное без учёта этого требования."
   ]
  },
  {
   "cell_type": "markdown",
   "metadata": {},
   "source": [
    "__Задание 1 (0.5 балла):__ Дано натуральное число. Требуется определить, является ли год с данным номером високосным. Если год является високосным, то выведите YES, иначе выведите NO. Напомним, что в соответствии с григорианским календарем, год является високосным, если его номер кратен 4, но не кратен 100, а также если он кратен 400."
   ]
  },
  {
   "cell_type": "code",
   "execution_count": 1,
   "metadata": {},
   "outputs": [
    {
     "name": "stdout",
     "output_type": "stream",
     "text": [
      "True\n",
      "True\n"
     ]
    }
   ],
   "source": [
    "def task_01_func(year):\n",
    "    if year % 4 == 0 and year % 100 != 0 or year % 400 == 0:\n",
    "        #print(\"YES\")\n",
    "        return \"YES\"\n",
    "    #print(\"NO\")\n",
    "    return \"NO\"\n",
    "leap_years = [1904, 1972, 1976, 1980, 1984, 1988, 1992, 1996, 2000, 2400]\n",
    "not_leap = [1900, 1901, 1902, 1903, 1905]\n",
    "print(list(filter(lambda x: task_01_func(x) == \"YES\", leap_years)) == leap_years)\n",
    "print(list(filter(lambda x: task_01_func(x) == \"NO\", not_leap)) == not_leap)"
   ]
  },
  {
   "cell_type": "markdown",
   "metadata": {},
   "source": [
    "__Задание 2 (0.5 балла):__ Дано натуральное число. Найдите число знаков в его десятичной записи. Предложите как минимум два различных решения."
   ]
  },
  {
   "cell_type": "code",
   "execution_count": 2,
   "metadata": {},
   "outputs": [
    {
     "name": "stdout",
     "output_type": "stream",
     "text": [
      "True\n",
      "True\n"
     ]
    }
   ],
   "source": [
    "def task_02_func1(number):\n",
    "    return len(str(number))\n",
    "    \n",
    "def task_02_func2(number):\n",
    "    counter_ = 1\n",
    "    while (number := number // 10) != 0:\n",
    "        counter_ += 1\n",
    "    return counter_\n",
    "    \n",
    "tests = [0, 5, 6, 12, 1305, 123623, 1_000_000_000, 127_000_041_387_600_549_287]\n",
    "ans = [1, 1, 1, 2, 4, 6, 10, 21]\n",
    "print(list(map(task_02_func1, tests)) == ans)\n",
    "print(list(map(task_02_func2, tests)) == ans)"
   ]
  },
  {
   "cell_type": "markdown",
   "metadata": {},
   "source": [
    "__Задание 3 (0.5 балла):__ По данному натуральном n вычислите сумму 1!+2!+3!+...+n!. В решении этой задачи с помощью циклов можно использовать только один цикл. Предложите как минимум два различных решения."
   ]
  },
  {
   "cell_type": "code",
   "execution_count": 18,
   "metadata": {},
   "outputs": [
    {
     "name": "stdout",
     "output_type": "stream",
     "text": [
      "True\n",
      "True\n"
     ]
    }
   ],
   "source": [
    "from math import factorial\n",
    "from functools import reduce\n",
    "\n",
    "def task_03_func1(n):\n",
    "    sum_ = 1\n",
    "    accum = 1\n",
    "    for i in range(2, n+1):\n",
    "        accum *= i\n",
    "        sum_ += accum\n",
    "    return sum_\n",
    "\n",
    "\n",
    "def task_03_func2(n):\n",
    "    return reduce(lambda x, y: x+ y, list(map(factorial, range(1, n+1))))\n",
    "\n",
    "ans = [1, 3, 9, 33, 153, 873, 5913, 46233, 409113, 4037913]\n",
    "print(list(map(task_03_func1, range(1, 11))) == ans)\n",
    "print(list(map(task_03_func2, range(1, 11))) == ans)"
   ]
  },
  {
   "cell_type": "markdown",
   "metadata": {},
   "source": [
    "__Задание 4 (0.5 балла):__ Определить, является ли введённая строка палиндромом (то есть одинаково читается с обеих сторон). Предложите как минимум три различных решения."
   ]
  },
  {
   "cell_type": "code",
   "execution_count": 10,
   "metadata": {},
   "outputs": [
    {
     "name": "stdout",
     "output_type": "stream",
     "text": [
      "True\n",
      "True\n",
      "True\n",
      "True\n",
      "True\n",
      "True\n"
     ]
    }
   ],
   "source": [
    "def task_04_func1(s):\n",
    "    return s == s[::-1]\n",
    "\n",
    "def task_04_func2(s):\n",
    "    i, j = 0, len(s)-1\n",
    "    while i<j:\n",
    "        if s[i] != s[j]:\n",
    "            return False\n",
    "        i +=1\n",
    "        j -=1\n",
    "    return True\n",
    "\n",
    "def task_04_func3(s):\n",
    "    return all(map(lambda x:x[0] == x[1], zip(s, reversed(s))))\n",
    "\n",
    "palindromes = [\"abraarba\", \"NISPONANOMIMATAMIMONANOPSIN\", '0', '1235321']\n",
    "not_palinromes = [\"Abraarb\", \"House\"]\n",
    "print(list(filter(lambda x: task_04_func1(x), palindromes)) == palindromes)\n",
    "print(list(filter(lambda x: not task_04_func1(x), not_palinromes)) == not_palinromes)\n",
    "print(list(filter(lambda x: task_04_func2(x), palindromes)) == palindromes)\n",
    "print(list(filter(lambda x: not task_04_func2(x), not_palinromes)) == not_palinromes)\n",
    "print(list(filter(lambda x: task_04_func3(x), palindromes)) == palindromes)\n",
    "print(list(filter(lambda x: not task_04_func3(x), not_palinromes)) == not_palinromes)"
   ]
  },
  {
   "cell_type": "markdown",
   "metadata": {},
   "source": [
    "__Задание 5 (1 балл):__ Дан текст в виде строки. Напишите функцию, которая возвращает словарь, где ключами являются уникальные слова из этого текста, а значениями - число раз, которое данное слово встретилось в тексте. Считать, что слова разделяются пробелами. Предложите как минимум два различных решения."
   ]
  },
  {
   "cell_type": "code",
   "execution_count": 3,
   "metadata": {},
   "outputs": [
    {
     "name": "stdout",
     "output_type": "stream",
     "text": [
      "{'Есть': 1, 'урок': 3, ',': 1, 'который': 1, 'идет': 1, 'не': 2, 'сорок': 1, 'пять': 1, 'минут,': 1, 'а': 1, 'всю': 1, 'жизнь.': 1, 'Этот': 1, 'проходит': 1, 'и': 7, 'в': 4, 'классе,': 1, 'поле,': 1, 'дома,': 2, 'лесу.': 1, 'Я': 1, 'назвал': 1, 'этот': 1, 'седьмым': 1, 'потому,': 1, 'что': 2, 'школе': 1, 'обычно': 1, 'бывает': 1, 'больше': 1, 'шести': 1, 'уроков.': 1, 'Не': 1, 'удивляйтесь,': 1, 'если': 1, 'я': 1, 'скажу,': 1, 'учителем': 1, 'на': 1, 'этом': 1, 'уроке': 1, 'может': 1, 'быть': 1, 'береза': 1, 'возле': 1, 'ваше': 1, 'бабушка.': 1, 'вы': 1, 'сами': 1} \n",
      "\n",
      "\n",
      "{'Есть': 1, 'урок': 3, ',': 1, 'который': 1, 'идет': 1, 'не': 2, 'сорок': 1, 'пять': 1, 'минут,': 1, 'а': 1, 'всю': 1, 'жизнь.': 1, 'Этот': 1, 'проходит': 1, 'и': 7, 'в': 4, 'классе,': 1, 'поле,': 1, 'дома,': 2, 'лесу.': 1, 'Я': 1, 'назвал': 1, 'этот': 1, 'седьмым': 1, 'потому,': 1, 'что': 2, 'школе': 1, 'обычно': 1, 'бывает': 1, 'больше': 1, 'шести': 1, 'уроков.': 1, 'Не': 1, 'удивляйтесь,': 1, 'если': 1, 'я': 1, 'скажу,': 1, 'учителем': 1, 'на': 1, 'этом': 1, 'уроке': 1, 'может': 1, 'быть': 1, 'береза': 1, 'возле': 1, 'ваше': 1, 'бабушка.': 1, 'вы': 1, 'сами': 1}\n"
     ]
    },
    {
     "data": {
      "text/plain": [
       "True"
      ]
     },
     "execution_count": 3,
     "metadata": {},
     "output_type": "execute_result"
    }
   ],
   "source": [
    "from collections import defaultdict, Counter\n",
    "\n",
    "def task_05_func1(text):\n",
    "    dict_ = defaultdict(int)\n",
    "    for word in text.split():\n",
    "        dict_[word] += 1\n",
    "    return dict(dict_)\n",
    "\n",
    "def task_05_func2(text):\n",
    "    counter = Counter(text.split())\n",
    "    return dict(counter)\n",
    "\n",
    "text = '''Есть урок , который идет не сорок пять минут, а всю жизнь. \n",
    "Этот урок проходит и в классе, и в поле, и дома, и в лесу. \n",
    "Я назвал этот урок седьмым потому, что в школе обычно бывает не больше шести уроков.\n",
    "Не удивляйтесь, если я скажу, что учителем на этом уроке может быть и береза возле ваше дома, и бабушка. и вы сами'''\n",
    "\n",
    "print(task_05_func1(text), '\\n\\n')\n",
    "print(task_05_func2(text))\n",
    "task_05_func1(text) == task_05_func2(text)"
   ]
  },
  {
   "cell_type": "markdown",
   "metadata": {},
   "source": [
    "__Задание 6 (1 балл):__ Напишите функцию, которая принимает на вход строку и символ и возвращает:\n",
    "\n",
    "- если символ встретился в строке один раз - кортеж (индекс вхождения, None);\n",
    "- если два и более раз - кортеж (индекс первого вхождения, индекс последнего вхождения);\n",
    "- если ни разу - кортеж (None, None).\n",
    "\n",
    "Запрещается делать более одного прохода по каждому элементу строки."
   ]
  },
  {
   "cell_type": "code",
   "execution_count": 4,
   "metadata": {},
   "outputs": [
    {
     "name": "stdout",
     "output_type": "stream",
     "text": [
      "(3, 10)\n",
      "(0, None)\n",
      "(10, None)\n",
      "(None, None)\n"
     ]
    }
   ],
   "source": [
    "def task_06_func(input_str, input_char):\n",
    "    first_entry, second_entry = -1, -1\n",
    "    for ind, word in enumerate(input_str):\n",
    "        if word == input_char:\n",
    "            if first_entry == -1:\n",
    "                first_entry = ind\n",
    "            else:\n",
    "                second_entry = ind\n",
    "    if first_entry == second_entry and first_entry == -1:\n",
    "        return (None, None)\n",
    "    if first_entry != -1 and second_entry == -1:\n",
    "        return (first_entry, None)\n",
    "    return (first_entry, second_entry)\n",
    "\n",
    "tests = [\"Abracadabra\", \"Chekhov's gun is a dramatic principle\"]\n",
    "\n",
    "print(task_06_func(tests[0], 'a'))\n",
    "print(task_06_func(tests[0], 'A'))\n",
    "print(task_06_func(tests[1], 'g'))\n",
    "print(task_06_func(tests[1], 'z'))"
   ]
  },
  {
   "cell_type": "markdown",
   "metadata": {},
   "source": [
    "__Задание 7 (1 балл):__ Дан список целых чисел. Напишите функцию, которая возвращает копию этого списка, из которой удалены отрицательные числа, а все прочие числа возведены в квадрат. Также возвращаемая последовательность должна быть отсортирована по убыванию. Предложите как минимум три различных решения."
   ]
  },
  {
   "cell_type": "code",
   "execution_count": 5,
   "metadata": {},
   "outputs": [
    {
     "name": "stdout",
     "output_type": "stream",
     "text": [
      "[196, 144, 16, 16, 9, 9]\n",
      "[196, 144, 16, 16, 9, 9]\n",
      "[196, 144, 16, 16, 9, 9]\n",
      "[-9, 4, 14, -69, -8, 3, 3, 12, 4] \n",
      "\n",
      "[324, 144, 81, 36, 25]\n",
      "[324, 144, 81, 36, 25]\n",
      "[324, 144, 81, 36, 25]\n",
      "[9, 6, 5, -1, 12, -12, 18]\n"
     ]
    }
   ],
   "source": [
    "def task_07_func1(lst):\n",
    "    temp = list(filter(lambda x: x>=0, lst))\n",
    "    temp = list(map(lambda x: x**2, temp))\n",
    "    return sorted(temp, reverse=True)\n",
    "\n",
    "def task_07_func2(lst):   \n",
    "    new_lst = []\n",
    "    for val in lst:\n",
    "        if val>=0:\n",
    "            new_lst.append(val**2)\n",
    "    return sorted(new_lst, reverse=True)\n",
    "\n",
    "def task_07_func3(lst):   \n",
    "    return sorted([x**2 for x in lst if x>=0], reverse = True)\n",
    "    \n",
    "tests = [[-9, 4, 14, -69, -8, 3, 3, 12, 4], [9, 6, 5, -1, 12, -12, 18]]\n",
    "\n",
    "print(task_07_func1(tests[0]))\n",
    "print(task_07_func2(tests[0]))\n",
    "print(task_07_func3(tests[0]))\n",
    "print(tests[0], \"\\n\")\n",
    "print(task_07_func1(tests[1]))\n",
    "print(task_07_func2(tests[1]))\n",
    "print(task_07_func3(tests[1]))\n",
    "print(tests[1])"
   ]
  },
  {
   "cell_type": "markdown",
   "metadata": {},
   "source": [
    "__Задание 8 (1 балл):__ Напишите функцию, которая принимает на вход список кортежей одинаковой длины и индекс `index` элемента в кортеже и возвращает генератор, итерирование по которому позволит получит все кортежи входного списка, отсортированные по убыванию элементов этих кортежей с индексом `index`."
   ]
  },
  {
   "cell_type": "code",
   "execution_count": 9,
   "metadata": {},
   "outputs": [
    {
     "name": "stdout",
     "output_type": "stream",
     "text": [
      "(3, 1, 90) (0, -3, 25) (-2, 17, -8) (-89, 11, 4) \n",
      "(-2, 17, -8) (-89, 11, 4) (3, 1, 90) (0, -3, 25) \n",
      "(3, 1, 90) (0, -3, 25) (-89, 11, 4) (-2, 17, -8) \n"
     ]
    }
   ],
   "source": [
    "def task_08_func(lst, index):\n",
    "    lst.sort(key = lambda x: x[index], reverse = True)\n",
    "    for val in lst:\n",
    "        yield val\n",
    "        \n",
    "test = [(0, -3, 25), (-89, 11, 4), (-2, 17, -8), (3, 1, 90)]\n",
    "\n",
    "for val in task_08_func(test, 0):\n",
    "    print(val, end=' ')\n",
    "print()\n",
    "for val in task_08_func(test, 1):\n",
    "    print(val, end=' ')\n",
    "print()\n",
    "for val in task_08_func(test, 2):\n",
    "    print(val, end=' ')\n",
    "print()"
   ]
  },
  {
   "cell_type": "markdown",
   "metadata": {},
   "source": [
    "__Задание 9 (1 балл):__ Напишите функцию, которая получает на вход натуральное число `n` и выводит первые `n` строк треугольника Паскаля."
   ]
  },
  {
   "cell_type": "code",
   "execution_count": 25,
   "metadata": {},
   "outputs": [
    {
     "name": "stdout",
     "output_type": "stream",
     "text": [
      "[1]\n",
      "[1, 2, 1]\n",
      "[1, 3, 3, 1]\n",
      "[1, 4, 6, 4, 1]\n",
      "[1, 5, 10, 10, 5, 1]\n",
      "[1, 6, 15, 20, 15, 6, 1]\n",
      "[1, 7, 21, 35, 35, 21, 7, 1]\n",
      "[1, 8, 28, 56, 70, 56, 28, 8, 1]\n",
      "[1, 9, 36, 84, 126, 126, 84, 36, 9, 1]\n",
      "[1, 10, 45, 120, 210, 252, 210, 120, 45, 10, 1]\n"
     ]
    }
   ],
   "source": [
    "from math import factorial\n",
    "\n",
    "def task_09_func(n):\n",
    "    if n == 1:\n",
    "        print([1])\n",
    "        return\n",
    "    lst = [[1], [1, 2, 1]]\n",
    "    for _ in range(3, n+1):\n",
    "        i = 0\n",
    "        new_lst = [1]\n",
    "        while i+1<len(lst[-1]):\n",
    "            new_lst+= [lst[-1][i]+lst[-1][i+1]]\n",
    "            i+=1\n",
    "        lst.append(new_lst + [1] )\n",
    "    for val in lst:\n",
    "        print(val)\n",
    "        \n",
    "task_09_func(10)"
   ]
  },
  {
   "cell_type": "markdown",
   "metadata": {},
   "source": [
    "__Задание 10 (1 балл):__ Напишите функцию, которая принимает на вход абсолютный путь к директории и две строки с расширениями файлов. В результате её выполнения у всех файлов в указанной директории, имеющих первое расширение, расширение должно измениться на второе. В конце работы функция должна возвращать кортеж из двух элементов:\n",
    "\n",
    "1. сколько всего в директории файлов (именно файлов, не директорий);\n",
    "2. у скольки из них расширение было изменено.\n",
    "\n",
    "Допускается только один проход по каждому файлу из указанной директории."
   ]
  },
  {
   "cell_type": "code",
   "execution_count": 19,
   "metadata": {},
   "outputs": [
    {
     "name": "stdout",
     "output_type": "stream",
     "text": [
      "(12, 9)\n",
      "(12, 9)\n",
      "(12, 0)\n"
     ]
    }
   ],
   "source": [
    "import os\n",
    "\n",
    "def task_10_func(dir_path, prev_extension, next_extension):\n",
    "    lst_dir = [f for f in os.listdir(dir_path) if os.path.isfile(os.path.join(dir_path, f))]\n",
    "    counter = 0\n",
    "    for file in lst_dir:\n",
    "        file_splt = file.split('.')\n",
    "        if len(file_splt)<2:\n",
    "            continue\n",
    "        if file_splt[-1] == prev_extension:\n",
    "            counter += 1\n",
    "            file_splt[-1] = next_extension\n",
    "            os.rename(os.path.join(dir_path, file), os.path.join(dir_path, '.'.join(file_splt)))\n",
    "    return (len(lst_dir), counter)\n",
    "            \n",
    "print(task_10_func(r\"C:\\Users\\vdtri\\Documents\\Test\", \"txt\", \"txtt\"))\n",
    "print(task_10_func(r\"C:\\Users\\vdtri\\Documents\\Test\", \"txtt\", \"txt\"))\n",
    "print(task_10_func(r\"C:\\Users\\vdtri\\Documents\\Test\", \"txtt\", \"txt\"))"
   ]
  },
  {
   "cell_type": "markdown",
   "metadata": {},
   "source": [
    "__Задание 11 (1 балл):__ Описать функцию, которая принимает на вход два списка и возвращает список уникальных элементов, которые есть в первом входном списке и отсутствуют во втором. Запрещается использовать циклы и списковые включения/генераторы списков."
   ]
  },
  {
   "cell_type": "code",
   "execution_count": 21,
   "metadata": {},
   "outputs": [
    {
     "data": {
      "text/plain": [
       "[2, 35, 6]"
      ]
     },
     "execution_count": 21,
     "metadata": {},
     "output_type": "execute_result"
    }
   ],
   "source": [
    "def task_11_func(first_list, second_list):\n",
    "    first_set = set(first_list)\n",
    "    second_set = set(second_list)\n",
    "    return list(first_set - second_set)\n",
    "\n",
    "task_11_func([1, 2, 6, 12, 35, 0], [1, 12, 0, 36])"
   ]
  },
  {
   "cell_type": "markdown",
   "metadata": {},
   "source": [
    "__Задание 12 (1 балл):__ Напишите функцию, которая получает на вход путь к файлу, в котором в каждой строке записано одно вещественное число, а также путь к выходному файлу. Функция должна прочитать содержимое файла, игнорировать строки с нечётными индексами, а строки с чётными индексами должна увеличить на минимальное из чисел, содержащихся в этом файле. Полученные числа нужно записать в выходной файл с точностью 5 знаков после запятой.\n",
    "\n",
    "Требуется сделать не более двух проходов по входному файлу, расход памяти на протяжении работы должен быть O(1) (то есть никак не зависеть от числа строк во входном файле)."
   ]
  },
  {
   "cell_type": "code",
   "execution_count": 25,
   "metadata": {},
   "outputs": [
    {
     "name": "stdout",
     "output_type": "stream",
     "text": [
      "\n"
     ]
    }
   ],
   "source": [
    "import sys\n",
    "\n",
    "def task_12_func(input_path, output_path):\n",
    "    min_dig = sys.float_info.max \n",
    "    with open(input_path, 'r') as in_file:\n",
    "        for line in in_file.readlines():\n",
    "            min_dig = float(line) if float(line)<min_dig else min_dig\n",
    "    with open(input_path, 'r') as in_file:\n",
    "        with open(output_path, 'w') as out_file:\n",
    "            for ind, line in enumerate(in_file.readlines()):\n",
    "                if ind%2 == 0:\n",
    "                    str_dig = str(float(line) + min_dig)\n",
    "                    out_file.write(str_dig[:str_dig.find(\".\") + 5] + \"\\n\")\n",
    "                    \n",
    "task_12_func(r\"C:\\Users\\vdtri\\Downloads\\in.txt\", r\"C:\\Users\\vdtri\\Downloads\\out.txt\")\n",
    "\n",
    "'''\n",
    "in.txt:\n",
    "123.65889763452\n",
    "0.12385754389\n",
    "-4.1867452\n",
    "89.134565436\n",
    "0.89235\n",
    "-1.35346\n",
    "'''\n",
    "\n",
    "'''\n",
    "out.txt:\n",
    "119.4721\n",
    "-8.3734\n",
    "-3.2943\n",
    "'''\n",
    "print()"
   ]
  },
  {
   "cell_type": "markdown",
   "metadata": {},
   "source": [
    "__Задание 13 (1 балл):__ Написать функцию, которая принимает на вход число `n`, которое может быть либо натуральным, либо -1, и возвращает генератор чисел Фиббоначи. Если входной параметр равен натуральному числу, то генератор должен выдавать последовательно числа Фиббоначи до `n`-го. Если `n` равно -1, то генератор должен быть бесконечным."
   ]
  },
  {
   "cell_type": "code",
   "execution_count": 26,
   "metadata": {},
   "outputs": [
    {
     "name": "stdout",
     "output_type": "stream",
     "text": [
      "0 1 1 2 3 5 8 13 21 34 55 89 144 233 377 \n",
      "\n",
      "\n",
      "0 1 1 2 3 5 8 13 21 34 55 89 144 233 377 610 987 1597 2584 4181 6765 10946 17711 28657 46368 75025 121393 196418 317811 514229 832040 1346269 2178309 3524578 5702887 9227465 14930352 24157817 39088169 63245986 102334155 165580141 267914296 433494437 701408733 1134903170 1836311903 2971215073 4807526976 7778742049 12586269025 "
     ]
    }
   ],
   "source": [
    "def task_13_func(n):\n",
    "    fib1, fib2 = 0, 1\n",
    "    if n == -1:\n",
    "        while True:\n",
    "            yield fib1\n",
    "            fib1, fib2 = fib2, fib1 + fib2\n",
    "    for i in range(n):\n",
    "        yield fib1\n",
    "        fib1, fib2 = fib2, fib1 + fib2\n",
    "            \n",
    "for i in task_13_func(15):\n",
    "    print(i, end=' ')\n",
    "    \n",
    "print(\"\\n\\n\")\n",
    "counter = -1\n",
    "for i in task_13_func(-1):\n",
    "    print(i, end = ' ')\n",
    "    counter += 1\n",
    "    if counter == 50:\n",
    "        break"
   ]
  },
  {
   "cell_type": "markdown",
   "metadata": {},
   "source": [
    "__Задание 14 (1 балл):__ Написать функцию, которая принимает на вход произвольный объект, проверяет его тип, и для целого числа возвращает список всех магических методов объекта, начинающихся с `__a`, для строк - с `__s`. Для всех прочих типов должен возвращаться список немагических методов. В задании запрещается использовать циклы и списковые включения/генераторы списков."
   ]
  },
  {
   "cell_type": "code",
   "execution_count": 53,
   "metadata": {},
   "outputs": [
    {
     "name": "stdout",
     "output_type": "stream",
     "text": [
      "['__abs__', '__add__', '__and__']\n",
      "['__setattr__', '__sizeof__', '__str__', '__subclasshook__']\n",
      "['append', 'clear', 'copy', 'count', 'extend', 'index', 'insert', 'pop', 'remove', 'reverse', 'sort']\n"
     ]
    }
   ],
   "source": [
    "def task_14_func(n):\n",
    "    if type(n) == type(1):\n",
    "        return [x for x in dir(n) if x[:3] == \"__a\" and x[-2:]==\"__\"]\n",
    "    if type(n) == type(\"\"):\n",
    "        return [x for x in dir(n) if x[:3] == \"__s\" and x[-2:]==\"__\"]\n",
    "    return [x for x in dir(n) if x[:2] != \"__\" or x[-2:]!=\"__\"]\n",
    "    \n",
    "print(task_14_func(1))\n",
    "print(task_14_func(\"\"))\n",
    "print(task_14_func([]))"
   ]
  },
  {
   "cell_type": "markdown",
   "metadata": {},
   "source": [
    "__Задание 15 (1.5 балла):__ Написать функцию, которая во входной строке заменяет вхождения всех английских заглавных букв на их номер в таблице ASCII, затем производит сплит по минимальной из цифр строки. Предложите как минимум два различных решения, одно из которых не должно использовать циклы. При использовании циклов допускается не более двух проходов по строке."
   ]
  },
  {
   "cell_type": "code",
   "execution_count": 27,
   "metadata": {},
   "outputs": [
    {
     "name": "stdout",
     "output_type": "stream",
     "text": [
      "['65jfd hd7', '7', '89ri4 is972d']\n",
      "['65jfd hd7', '7', '89ri4 is972d']\n",
      "abcdf 13! sdf\n",
      "abcdf 13! sdf\n"
     ]
    }
   ],
   "source": [
    "def task_15_func1(n):\n",
    "    new_str = \"\"\n",
    "    min_dig = 10\n",
    "    for ind, char_ in enumerate(n):\n",
    "        if char_.isupper():\n",
    "            ord_ = str(ord(char_))\n",
    "            temp_dig = min(list(map(int, ord_)))\n",
    "            min_dig = temp_dig if temp_dig<min_dig else min_dig\n",
    "            new_str+= ord_\n",
    "        else:\n",
    "            new_str+=char_\n",
    "    if min_dig!=10:\n",
    "        return new_str.split(str(min_dig))\n",
    "    return new_str\n",
    "\n",
    "def transform(char_):\n",
    "    if char_.isupper():\n",
    "        temp = str(ord(char_))\n",
    "        return (temp, min(list(map(int, temp))))\n",
    "    return (char_, 10)\n",
    "def task_15_func2(n):\n",
    "    lst = list(map(transform, n))\n",
    "    min_dig = 10\n",
    "    new_str, min_dig = ''.join(list(map(lambda x: x[0], lst))), min(list(map(lambda x: x[1], lst)))\n",
    "    if min_dig!=10:\n",
    "        return new_str.split(str(min_dig))\n",
    "    return new_str    \n",
    "\n",
    "print(task_15_func1(\"Ajfd hdFFYri4 is9Hd\"))\n",
    "print(task_15_func2(\"Ajfd hdFFYri4 is9Hd\"))\n",
    "print(task_15_func1(\"abcdf 13! sdf\"))\n",
    "print(task_15_func2(\"abcdf 13! sdf\"))"
   ]
  },
  {
   "cell_type": "markdown",
   "metadata": {},
   "source": [
    "__Задание 16 (1.5 балла):__ Написать функцию, которая принимает на вход строку и извлекает из неё мобильные телефонные номера с помощью регулярных выражений. Функция должна поддерживать общепринятые варианты написания номера, как со всевозможными разделителями, так и без них (обеспечьте поддержку не менее 10 различных случаев). Возвращаемым значением функции является список всех найденных в строке номеров, если их не было, нужно вернуть пустой список."
   ]
  },
  {
   "cell_type": "code",
   "execution_count": 39,
   "metadata": {},
   "outputs": [
    {
     "name": "stdout",
     "output_type": "stream",
     "text": [
      "['+7(963)230-44-32', '8(963)230-44-32']\n",
      "['+7963230-44-32', '8963230-44-32']\n",
      "['+7 963230-44-32', '8  963230-44-32']\n",
      "['7963230-44-32', '8963230-44-32']\n",
      "['+7 963 230 44 32', '8 963 230 44 32']\n",
      "['+7 963 230-44-32', '8 963 230-44-32']\n",
      "['+7 (963) 230-44-32', '8 (963) 230-44-32']\n",
      "[]\n"
     ]
    }
   ],
   "source": [
    "import re\n",
    "\n",
    "def task_16_func(n):\n",
    "    pattern = re.compile(r\"(?:7|\\+7|8)\\s*(?:\\(\\s*\\d{3}\\s*\\)|\\d{3})\\s*(?:\\d{3}-\\d{2}-\\d{2}|\\d{3}\\s*\\d{2}\\s*\\d{2})\")\n",
    "    return re.findall(pattern, n)\n",
    "    \n",
    "print(task_16_func(\" Abracadabra +7(963)230-44-32 Написать функцию 8(963)230-44-32 Опишем бинарное дерево\"))\n",
    "print(task_16_func(\" Abracadabra +7963230-44-32 Написать функцию 8963230-44-32 Опишем бинарное дерево\"))\n",
    "print(task_16_func(\" Abracadabra +7 963230-44-32 Написать функцию 8  963230-44-32 Опишем бинарное дерево\"))\n",
    "print(task_16_func(\" Abracadabra 7963230-44-32 Написать функцию 8963230-44-32 Опишем бинарное дерево\"))\n",
    "print(task_16_func(\" Abracadabra +7 963 230 44 32 Написать функцию 8 963 230 44 32 Опишем бинарное дерево\"))\n",
    "print(task_16_func(\" Abracadabra +7 963 230-44-32 Написать функцию 8 963 230-44-32 Опишем бинарное дерево\"))\n",
    "print(task_16_func(\" Abracadabra +7 (963) 230-44-32 Написать функцию 8 (963) 230-44-32 Опишем бинарное дерево\"))\n",
    "print(task_16_func(\" Abracadabra +7 963) 230-44-32 Написать функцию 8 (96) 230-44-32 Опишем бинарное дерево\"))"
   ]
  },
  {
   "cell_type": "markdown",
   "metadata": {},
   "source": [
    "__Задание 17 (5 баллов):__ Опишем бинарное дерево, представленное в виде вложенных кортежей, в каждом узле дерева хранится вещественное число и ссылка на левое и правое поддерево.\n",
    "\n",
    "Пример: для сбалансированного дерева\n",
    "\n",
    "```\n",
    "        v_0\n",
    "       /   \\\n",
    "   v_11     v_12\n",
    "  /  \\       /  \\\n",
    "v_21 v_22  v_23 v_24\n",
    "```\n",
    "\n",
    "представление в виде кортежей будет выглядеть так:\n",
    "\n",
    "```\n",
    "(v_0,\n",
    "    (v_11,\n",
    "        (v_21, None, None),\n",
    "        (v_22, None, None)\n",
    "    ),\n",
    "    (v_12,\n",
    "        (v_23, None, None),\n",
    "        (v_24, None, None)\n",
    "    )\n",
    ")\n",
    "```\n",
    "\n",
    "Необходимо написать функцию, которая принимает на вход бинарное дерево (не обязательно сбалансированное), закодированное описанным способом в виде кортежа, производит его обход в глубину и для каждой листовой вершины вычисляет сумму всех значений от корня до неё включительно. Функция ничего не возвращает, вместо этого она выводит получаемые суммы в порядке следования листовых вершин (слева направо).\n",
    "\n",
    "Реализуйте два решения: на основе рекурсии и на основе циклов."
   ]
  },
  {
   "cell_type": "code",
   "execution_count": 43,
   "metadata": {},
   "outputs": [
    {
     "name": "stdout",
     "output_type": "stream",
     "text": [
      "10\n",
      "6\n",
      "8\n",
      "12\n",
      "\n",
      "\n",
      "10\n",
      "6\n",
      "8\n",
      "12\n",
      "\n",
      "\n"
     ]
    }
   ],
   "source": [
    "def task_17_func1(n, val=0):\n",
    "    if n[1] is None and n[2] is None:\n",
    "        print(val + n[0])\n",
    "    if n[1] is not None and n[2] is not None:\n",
    "        val += n[0]\n",
    "        task_17_func1(n[1], val)\n",
    "        task_17_func1(n[2], val)\n",
    "    else:\n",
    "        if n[1] is not None:\n",
    "            val += n[0]\n",
    "            task_17_func1(n[1], val)\n",
    "        if n[2] is not None:\n",
    "            val += n[0]\n",
    "            print(val)\n",
    "            task_17_func1(n[2], val) \n",
    "        \n",
    "def task_17_func2(n):\n",
    "    stack = []\n",
    "    stack.append((n, n[0]))\n",
    "    accum = 0\n",
    "    flag = True\n",
    "    while len(stack)!=0:\n",
    "        val = stack.pop()\n",
    "        accum = val[1]\n",
    "        if val[0][2] is not None:\n",
    "            stack.append((val[0][2], val[0][2][0]+accum))\n",
    "        if val[0][1] is not None:\n",
    "            stack.append((val[0][1], val[0][1][0]+accum))\n",
    "        if val[0][1] is None and val[0][2] is None:\n",
    "            print(val[1])       \n",
    "\n",
    "task_17_func1((3,\n",
    "    (2,\n",
    "        (5, None, None),\n",
    "        (1, None, None)\n",
    "    ),\n",
    "    (6,\n",
    "        (-1, None, None),\n",
    "        (3, None, None)\n",
    "    )\n",
    "))\n",
    "print(\"\\n\")\n",
    "task_17_func2((3,\n",
    "    (2,\n",
    "        (5, None, None),\n",
    "        (1, None, None)\n",
    "    ),\n",
    "    (6,\n",
    "        (-1, None, None),\n",
    "        (3, None, None)\n",
    "    )\n",
    "))\n",
    "print(\"\\n\")"
   ]
  },
  {
   "cell_type": "code",
   "execution_count": null,
   "metadata": {},
   "outputs": [],
   "source": []
  }
 ],
 "metadata": {
  "kernelspec": {
   "display_name": "Python 3",
   "language": "python",
   "name": "python3"
  },
  "language_info": {
   "codemirror_mode": {
    "name": "ipython",
    "version": 3
   },
   "file_extension": ".py",
   "mimetype": "text/x-python",
   "name": "python",
   "nbconvert_exporter": "python",
   "pygments_lexer": "ipython3",
   "version": "3.8.5"
  }
 },
 "nbformat": 4,
 "nbformat_minor": 2
}
